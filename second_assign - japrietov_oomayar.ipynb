{
 "cells": [
  {
   "cell_type": "markdown",
   "metadata": {
    "collapsed": true
   },
   "source": [
    "<h2 align=\"right\">Universidad Nacional de Colombia - Facultad de Ingenieria</h2> \n",
    "<h2 align=\"right\">Machine Learning</h2> \n",
    "<h3 align=\"right\">Jeisson Andres Prieto Velandia - japrietov@unal.edu.co</h3> \n",
    "<h3 align=\"right\">Omar Orlando Amaya Rojas - ooamayar@unal.edu.co</h3> "
   ]
  },
  {
   "cell_type": "markdown",
   "metadata": {},
   "source": [
    ""
   ]
  }
 ],
 "metadata": {
  "kernelspec": {
   "display_name": "Python 2",
   "language": "python",
   "name": "python2"
  },
  "language_info": {
   "codemirror_mode": {
    "name": "ipython",
    "version": 2.0
   },
   "file_extension": ".py",
   "mimetype": "text/x-python",
   "name": "python",
   "nbconvert_exporter": "python",
   "pygments_lexer": "ipython2",
   "version": "2.7.6"
  }
 },
 "nbformat": 4,
 "nbformat_minor": 0
}